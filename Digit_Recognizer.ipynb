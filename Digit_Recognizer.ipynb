{
  "nbformat": 4,
  "nbformat_minor": 0,
  "metadata": {
    "colab": {
      "name": "Digit_Recognizer.ipynb",
      "provenance": [],
      "authorship_tag": "ABX9TyOHI9ez5wG/F8f8fSAXYuXI",
      "include_colab_link": true
    },
    "kernelspec": {
      "name": "python3",
      "display_name": "Python 3"
    }
  },
  "cells": [
    {
      "cell_type": "markdown",
      "metadata": {
        "id": "view-in-github",
        "colab_type": "text"
      },
      "source": [
        "<a href=\"https://colab.research.google.com/github/venkat2ram/Kaggle/blob/master/Digit_Recognizer.ipynb\" target=\"_parent\"><img src=\"https://colab.research.google.com/assets/colab-badge.svg\" alt=\"Open In Colab\"/></a>"
      ]
    },
    {
      "cell_type": "code",
      "metadata": {
        "id": "SA05eK-THE5O",
        "colab_type": "code",
        "colab": {}
      },
      "source": [
        "import numpy as np\n",
        "import pandas as pd\n"
      ],
      "execution_count": 0,
      "outputs": []
    },
    {
      "cell_type": "code",
      "metadata": {
        "id": "6bzgIDy7P1Hc",
        "colab_type": "code",
        "colab": {}
      },
      "source": [
        "data=np.array(pd.read_csv(r'/train.csv'))"
      ],
      "execution_count": 0,
      "outputs": []
    },
    {
      "cell_type": "code",
      "metadata": {
        "id": "_iopW-R9Q-z3",
        "colab_type": "code",
        "outputId": "e8dc0083-0779-4dfa-9579-acf364f4b38b",
        "colab": {
          "base_uri": "https://localhost:8080/",
          "height": 34
        }
      },
      "source": [
        "data.shape"
      ],
      "execution_count": 0,
      "outputs": [
        {
          "output_type": "execute_result",
          "data": {
            "text/plain": [
              "(42000, 785)"
            ]
          },
          "metadata": {
            "tags": []
          },
          "execution_count": 24
        }
      ]
    },
    {
      "cell_type": "code",
      "metadata": {
        "id": "4yt1E3ZuRPbC",
        "colab_type": "code",
        "outputId": "966508f5-9d13-4609-c644-a3c9efbff265",
        "colab": {
          "base_uri": "https://localhost:8080/",
          "height": 134
        }
      },
      "source": [
        "data"
      ],
      "execution_count": 0,
      "outputs": [
        {
          "output_type": "execute_result",
          "data": {
            "text/plain": [
              "array([[1, 0, 0, ..., 0, 0, 0],\n",
              "       [0, 0, 0, ..., 0, 0, 0],\n",
              "       [1, 0, 0, ..., 0, 0, 0],\n",
              "       ...,\n",
              "       [7, 0, 0, ..., 0, 0, 0],\n",
              "       [6, 0, 0, ..., 0, 0, 0],\n",
              "       [9, 0, 0, ..., 0, 0, 0]])"
            ]
          },
          "metadata": {
            "tags": []
          },
          "execution_count": 29
        }
      ]
    },
    {
      "cell_type": "code",
      "metadata": {
        "id": "0TnQ9qW9RvbO",
        "colab_type": "code",
        "colab": {}
      },
      "source": [
        "train_data=data[0:40000,:]"
      ],
      "execution_count": 0,
      "outputs": []
    },
    {
      "cell_type": "code",
      "metadata": {
        "id": "RLIgvW9xTKTq",
        "colab_type": "code",
        "colab": {}
      },
      "source": [
        "validation_data=data[40000:42000,:]"
      ],
      "execution_count": 0,
      "outputs": []
    },
    {
      "cell_type": "code",
      "metadata": {
        "id": "CH1QvKXSSKmm",
        "colab_type": "code",
        "colab": {}
      },
      "source": [
        "X_train=train_data[:,1:785]\n",
        "X_validation=validation_data[:,1:785]"
      ],
      "execution_count": 0,
      "outputs": []
    },
    {
      "cell_type": "code",
      "metadata": {
        "id": "46dg6SNagIwy",
        "colab_type": "code",
        "colab": {}
      },
      "source": [
        "y_train=train_data[:,0]\n",
        "y_validation=validation_data[:,0]"
      ],
      "execution_count": 0,
      "outputs": []
    },
    {
      "cell_type": "code",
      "metadata": {
        "id": "FtmCZlZkU4ar",
        "colab_type": "code",
        "colab": {}
      },
      "source": [
        "y_train=np.zeros((train_data.shape[0],10))\n",
        "y_validation=np.zeros((validation_data.shape[0],10))\n",
        "a=0\n",
        "for i in train_data[:,0]:\n",
        "  y_train[a,i]=1\n",
        "  a=a+1\n",
        "b=0\n",
        "for i in validation_data[:,0]:\n",
        "  y_validation[b,i]=1\n",
        "  b=b+1\n"
      ],
      "execution_count": 0,
      "outputs": []
    },
    {
      "cell_type": "code",
      "metadata": {
        "id": "jUg4FsWsWyZ6",
        "colab_type": "code",
        "colab": {}
      },
      "source": [
        "from sklearn.neural_network import MLPClassifier"
      ],
      "execution_count": 0,
      "outputs": []
    },
    {
      "cell_type": "code",
      "metadata": {
        "id": "cJWsC4ADXHxu",
        "colab_type": "code",
        "colab": {}
      },
      "source": [
        "classifier=MLPClassifier()\n",
        "#50-->76"
      ],
      "execution_count": 0,
      "outputs": []
    },
    {
      "cell_type": "code",
      "metadata": {
        "id": "ZKI2ZD4EXcgG",
        "colab_type": "code",
        "outputId": "0dbcaace-d2fd-436f-afd8-a5c943777adb",
        "colab": {
          "base_uri": "https://localhost:8080/",
          "height": 151
        }
      },
      "source": [
        "classifier.fit(X_train,y_train)"
      ],
      "execution_count": 0,
      "outputs": [
        {
          "output_type": "execute_result",
          "data": {
            "text/plain": [
              "MLPClassifier(activation='relu', alpha=0.0001, batch_size='auto', beta_1=0.9,\n",
              "              beta_2=0.999, early_stopping=False, epsilon=1e-08,\n",
              "              hidden_layer_sizes=(100,), learning_rate='constant',\n",
              "              learning_rate_init=0.001, max_fun=15000, max_iter=200,\n",
              "              momentum=0.9, n_iter_no_change=10, nesterovs_momentum=True,\n",
              "              power_t=0.5, random_state=None, shuffle=True, solver='adam',\n",
              "              tol=0.0001, validation_fraction=0.1, verbose=False,\n",
              "              warm_start=False)"
            ]
          },
          "metadata": {
            "tags": []
          },
          "execution_count": 237
        }
      ]
    },
    {
      "cell_type": "code",
      "metadata": {
        "id": "MPfTVMW1X8cD",
        "colab_type": "code",
        "colab": {}
      },
      "source": [
        "y_hat=classifier.predict(X_validation)"
      ],
      "execution_count": 0,
      "outputs": []
    },
    {
      "cell_type": "code",
      "metadata": {
        "id": "e2Knrlg6YE9j",
        "colab_type": "code",
        "outputId": "cb56edbb-092c-4978-a267-bcf88de6403f",
        "colab": {
          "base_uri": "https://localhost:8080/",
          "height": 34
        }
      },
      "source": [
        "sum(y_hat!=y_validation)"
      ],
      "execution_count": 0,
      "outputs": [
        {
          "output_type": "execute_result",
          "data": {
            "text/plain": [
              "77"
            ]
          },
          "metadata": {
            "tags": []
          },
          "execution_count": 239
        }
      ]
    },
    {
      "cell_type": "markdown",
      "metadata": {
        "id": "X5gGvG7caUZZ",
        "colab_type": "text"
      },
      "source": [
        "**-----------------------------------------------------------Test data---------------------------------------------------**"
      ]
    },
    {
      "cell_type": "code",
      "metadata": {
        "id": "5_8E5H1oabcf",
        "colab_type": "code",
        "colab": {}
      },
      "source": [
        "X_test=np.array(pd.read_csv(r'/test.csv'))"
      ],
      "execution_count": 0,
      "outputs": []
    },
    {
      "cell_type": "code",
      "metadata": {
        "id": "3_zQOon5az6m",
        "colab_type": "code",
        "colab": {}
      },
      "source": [
        "y_test=classifier.predict(X_test)"
      ],
      "execution_count": 0,
      "outputs": []
    },
    {
      "cell_type": "code",
      "metadata": {
        "id": "jTUqmrWheUxI",
        "colab_type": "code",
        "colab": {}
      },
      "source": [
        "pd.DataFrame(y_test.reshape(-1,1),index=np.array(range(1,28001)),columns=['Label']).to_csv('/submission_5.csv')"
      ],
      "execution_count": 0,
      "outputs": []
    },
    {
      "cell_type": "markdown",
      "metadata": {
        "id": "lbWUJHxZxazC",
        "colab_type": "text"
      },
      "source": [
        "**-------------------------------------------Use diferent classifiers---------------------------**"
      ]
    },
    {
      "cell_type": "code",
      "metadata": {
        "id": "i49pdLsQxhkV",
        "colab_type": "code",
        "outputId": "2eddf7d2-f027-4647-8e21-f3f49cf0cdc7",
        "colab": {
          "base_uri": "https://localhost:8080/",
          "height": 118
        }
      },
      "source": [
        "import xgboost as xg\n",
        "xgb=xg.XGBRFClassifier()\n",
        "xgb.fit(X_train,y_train)\n"
      ],
      "execution_count": 0,
      "outputs": [
        {
          "output_type": "execute_result",
          "data": {
            "text/plain": [
              "XGBRFClassifier(base_score=0.5, colsample_bylevel=1, colsample_bynode=0.8,\n",
              "                colsample_bytree=1, gamma=0, learning_rate=1, max_delta_step=0,\n",
              "                max_depth=3, min_child_weight=1, missing=None, n_estimators=100,\n",
              "                n_jobs=1, nthread=None, objective='multi:softprob',\n",
              "                random_state=0, reg_alpha=0, reg_lambda=1, scale_pos_weight=1,\n",
              "                seed=None, silent=None, subsample=0.8, verbosity=1)"
            ]
          },
          "metadata": {
            "tags": []
          },
          "execution_count": 164
        }
      ]
    },
    {
      "cell_type": "code",
      "metadata": {
        "id": "eGexOjk0xaZ-",
        "colab_type": "code",
        "colab": {}
      },
      "source": [
        "y_xgb=xgb.predict(X_validation)"
      ],
      "execution_count": 0,
      "outputs": []
    },
    {
      "cell_type": "code",
      "metadata": {
        "id": "dBHX7Vgg3_1c",
        "colab_type": "code",
        "outputId": "c11b637f-7d7e-43bf-89cc-b31be0777a42",
        "colab": {
          "base_uri": "https://localhost:8080/",
          "height": 34
        }
      },
      "source": [
        "sum(y_xgb!=y_validation)"
      ],
      "execution_count": 0,
      "outputs": [
        {
          "output_type": "execute_result",
          "data": {
            "text/plain": [
              "463"
            ]
          },
          "metadata": {
            "tags": []
          },
          "execution_count": 167
        }
      ]
    },
    {
      "cell_type": "code",
      "metadata": {
        "id": "Yl2pUumtBkr4",
        "colab_type": "code",
        "colab": {}
      },
      "source": [
        "import sklearn.neural_network."
      ],
      "execution_count": 0,
      "outputs": []
    },
    {
      "cell_type": "markdown",
      "metadata": {
        "id": "y5vsO-OSUUR3",
        "colab_type": "text"
      },
      "source": [
        "**------------------------------------------------Rough-----------------------------------------**"
      ]
    },
    {
      "cell_type": "code",
      "metadata": {
        "id": "M3NJuEfwfL_c",
        "colab_type": "code",
        "outputId": "017cbd3c-c10f-4567-8b20-6339cea3752c",
        "colab": {
          "base_uri": "https://localhost:8080/",
          "height": 34
        }
      },
      "source": [
        "np.array(range(1,28000)).reshape(1,-1)"
      ],
      "execution_count": 0,
      "outputs": [
        {
          "output_type": "execute_result",
          "data": {
            "text/plain": [
              "array([[    1,     2,     3, ..., 27997, 27998, 27999]])"
            ]
          },
          "metadata": {
            "tags": []
          },
          "execution_count": 144
        }
      ]
    },
    {
      "cell_type": "code",
      "metadata": {
        "id": "Jk6bRBCJcH9G",
        "colab_type": "code",
        "outputId": "8a5bc093-a817-4519-88d8-3dbba4a461a1",
        "colab": {
          "base_uri": "https://localhost:8080/",
          "height": 134
        }
      },
      "source": [
        "y_test"
      ],
      "execution_count": 0,
      "outputs": [
        {
          "output_type": "execute_result",
          "data": {
            "text/plain": [
              "array([[0, 0, 1, ..., 0, 0, 0],\n",
              "       [1, 0, 0, ..., 0, 0, 0],\n",
              "       [0, 0, 0, ..., 0, 0, 1],\n",
              "       ...,\n",
              "       [0, 0, 0, ..., 0, 0, 0],\n",
              "       [0, 0, 0, ..., 0, 0, 1],\n",
              "       [0, 0, 1, ..., 0, 0, 0]])"
            ]
          },
          "metadata": {
            "tags": []
          },
          "execution_count": 106
        }
      ]
    },
    {
      "cell_type": "code",
      "metadata": {
        "id": "bTOFrderTtqf",
        "colab_type": "code",
        "outputId": "684ff82d-6b7a-43d5-9dad-f05788e84a1a",
        "colab": {
          "base_uri": "https://localhost:8080/",
          "height": 34
        }
      },
      "source": [
        "np.where(y_test==1)[1].reshape(-1,1).shape"
      ],
      "execution_count": 0,
      "outputs": [
        {
          "output_type": "execute_result",
          "data": {
            "text/plain": [
              "(28054, 1)"
            ]
          },
          "metadata": {
            "tags": []
          },
          "execution_count": 103
        }
      ]
    },
    {
      "cell_type": "code",
      "metadata": {
        "id": "SmYgd6y9Zch_",
        "colab_type": "code",
        "outputId": "8b00d5ef-e531-4692-e5bf-e54ab837bb15",
        "colab": {
          "base_uri": "https://localhost:8080/",
          "height": 34
        }
      },
      "source": [
        "a**2"
      ],
      "execution_count": 0,
      "outputs": [
        {
          "output_type": "execute_result",
          "data": {
            "text/plain": [
              "array([1, 0, 0, 1])"
            ]
          },
          "metadata": {
            "tags": []
          },
          "execution_count": 82
        }
      ]
    },
    {
      "cell_type": "code",
      "metadata": {
        "id": "-30OaHkFTj8b",
        "colab_type": "code",
        "outputId": "06064c9f-53d7-432c-d63d-f940ebaa0f28",
        "colab": {
          "base_uri": "https://localhost:8080/",
          "height": 34
        }
      },
      "source": [
        "train_data.shape"
      ],
      "execution_count": 0,
      "outputs": [
        {
          "output_type": "execute_result",
          "data": {
            "text/plain": [
              "(40000, 785)"
            ]
          },
          "metadata": {
            "tags": []
          },
          "execution_count": 57
        }
      ]
    },
    {
      "cell_type": "code",
      "metadata": {
        "id": "yaX4QUqnTdwV",
        "colab_type": "code",
        "outputId": "f1b16fbb-5314-47bb-ee8f-ec94d6909464",
        "colab": {
          "base_uri": "https://localhost:8080/",
          "height": 34
        }
      },
      "source": [
        "X_validation.shape"
      ],
      "execution_count": 0,
      "outputs": [
        {
          "output_type": "execute_result",
          "data": {
            "text/plain": [
              "(2000, 784)"
            ]
          },
          "metadata": {
            "tags": []
          },
          "execution_count": 61
        }
      ]
    },
    {
      "cell_type": "code",
      "metadata": {
        "id": "U09_rt_5dbXu",
        "colab_type": "code",
        "outputId": "810bf912-d0f5-4d26-94e5-44c021c88ba8",
        "colab": {
          "base_uri": "https://localhost:8080/",
          "height": 34
        }
      },
      "source": [
        "X_test.shape"
      ],
      "execution_count": 0,
      "outputs": [
        {
          "output_type": "execute_result",
          "data": {
            "text/plain": [
              "(28000, 784)"
            ]
          },
          "metadata": {
            "tags": []
          },
          "execution_count": 100
        }
      ]
    }
  ]
}